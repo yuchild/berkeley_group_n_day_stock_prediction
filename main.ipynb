{
 "cells": [
  {
   "cell_type": "code",
   "execution_count": 1,
   "id": "6f2c2030",
   "metadata": {},
   "outputs": [],
   "source": [
    "import pandas as pd "
   ]
  },
  {
   "cell_type": "code",
   "execution_count": 2,
   "id": "eed7f0d8",
   "metadata": {},
   "outputs": [],
   "source": [
    "import yfinance as yf"
   ]
  },
  {
   "cell_type": "code",
   "execution_count": 3,
   "id": "23b0b9c6",
   "metadata": {},
   "outputs": [],
   "source": [
    "import warnings\n",
    "warnings.filterwarnings('ignore')"
   ]
  },
  {
   "cell_type": "code",
   "execution_count": null,
   "id": "25b6688b",
   "metadata": {},
   "outputs": [],
   "source": []
  },
  {
   "cell_type": "code",
   "execution_count": 4,
   "id": "1d0451ae",
   "metadata": {},
   "outputs": [
    {
     "name": "stderr",
     "output_type": "stream",
     "text": [
      "[*********************100%%**********************]  1 of 1 completed\n"
     ]
    }
   ],
   "source": [
    "aapl_day = yf.download(\"AAPL\", start=\"2010-12-01\", end=None)"
   ]
  },
  {
   "cell_type": "code",
   "execution_count": 5,
   "id": "912027f0",
   "metadata": {},
   "outputs": [
    {
     "data": {
      "text/html": [
       "<div>\n",
       "<style scoped>\n",
       "    .dataframe tbody tr th:only-of-type {\n",
       "        vertical-align: middle;\n",
       "    }\n",
       "\n",
       "    .dataframe tbody tr th {\n",
       "        vertical-align: top;\n",
       "    }\n",
       "\n",
       "    .dataframe thead th {\n",
       "        text-align: right;\n",
       "    }\n",
       "</style>\n",
       "<table border=\"1\" class=\"dataframe\">\n",
       "  <thead>\n",
       "    <tr style=\"text-align: right;\">\n",
       "      <th></th>\n",
       "      <th>Open</th>\n",
       "      <th>High</th>\n",
       "      <th>Low</th>\n",
       "      <th>Close</th>\n",
       "      <th>Adj Close</th>\n",
       "      <th>Volume</th>\n",
       "    </tr>\n",
       "    <tr>\n",
       "      <th>Date</th>\n",
       "      <th></th>\n",
       "      <th></th>\n",
       "      <th></th>\n",
       "      <th></th>\n",
       "      <th></th>\n",
       "      <th></th>\n",
       "    </tr>\n",
       "  </thead>\n",
       "  <tbody>\n",
       "    <tr>\n",
       "      <th>2024-02-01</th>\n",
       "      <td>183.990005</td>\n",
       "      <td>186.949997</td>\n",
       "      <td>183.820007</td>\n",
       "      <td>186.860001</td>\n",
       "      <td>186.860001</td>\n",
       "      <td>64885400</td>\n",
       "    </tr>\n",
       "    <tr>\n",
       "      <th>2024-02-02</th>\n",
       "      <td>179.860001</td>\n",
       "      <td>187.330002</td>\n",
       "      <td>179.250000</td>\n",
       "      <td>185.850006</td>\n",
       "      <td>185.850006</td>\n",
       "      <td>102518000</td>\n",
       "    </tr>\n",
       "    <tr>\n",
       "      <th>2024-02-05</th>\n",
       "      <td>188.149994</td>\n",
       "      <td>189.250000</td>\n",
       "      <td>185.839996</td>\n",
       "      <td>187.679993</td>\n",
       "      <td>187.679993</td>\n",
       "      <td>69668800</td>\n",
       "    </tr>\n",
       "    <tr>\n",
       "      <th>2024-02-06</th>\n",
       "      <td>186.860001</td>\n",
       "      <td>189.309998</td>\n",
       "      <td>186.770004</td>\n",
       "      <td>189.300003</td>\n",
       "      <td>189.300003</td>\n",
       "      <td>43490800</td>\n",
       "    </tr>\n",
       "    <tr>\n",
       "      <th>2024-02-07</th>\n",
       "      <td>190.639999</td>\n",
       "      <td>191.029999</td>\n",
       "      <td>188.610001</td>\n",
       "      <td>189.279999</td>\n",
       "      <td>189.279999</td>\n",
       "      <td>33776023</td>\n",
       "    </tr>\n",
       "  </tbody>\n",
       "</table>\n",
       "</div>"
      ],
      "text/plain": [
       "                  Open        High         Low       Close   Adj Close  \\\n",
       "Date                                                                     \n",
       "2024-02-01  183.990005  186.949997  183.820007  186.860001  186.860001   \n",
       "2024-02-02  179.860001  187.330002  179.250000  185.850006  185.850006   \n",
       "2024-02-05  188.149994  189.250000  185.839996  187.679993  187.679993   \n",
       "2024-02-06  186.860001  189.309998  186.770004  189.300003  189.300003   \n",
       "2024-02-07  190.639999  191.029999  188.610001  189.279999  189.279999   \n",
       "\n",
       "               Volume  \n",
       "Date                   \n",
       "2024-02-01   64885400  \n",
       "2024-02-02  102518000  \n",
       "2024-02-05   69668800  \n",
       "2024-02-06   43490800  \n",
       "2024-02-07   33776023  "
      ]
     },
     "execution_count": 5,
     "metadata": {},
     "output_type": "execute_result"
    }
   ],
   "source": [
    "aapl_day.tail()"
   ]
  },
  {
   "cell_type": "code",
   "execution_count": 6,
   "id": "f785e0c0",
   "metadata": {},
   "outputs": [
    {
     "data": {
      "text/html": [
       "<div>\n",
       "<style scoped>\n",
       "    .dataframe tbody tr th:only-of-type {\n",
       "        vertical-align: middle;\n",
       "    }\n",
       "\n",
       "    .dataframe tbody tr th {\n",
       "        vertical-align: top;\n",
       "    }\n",
       "\n",
       "    .dataframe thead th {\n",
       "        text-align: right;\n",
       "    }\n",
       "</style>\n",
       "<table border=\"1\" class=\"dataframe\">\n",
       "  <thead>\n",
       "    <tr style=\"text-align: right;\">\n",
       "      <th></th>\n",
       "      <th>o</th>\n",
       "      <th>h</th>\n",
       "      <th>l</th>\n",
       "      <th>c</th>\n",
       "      <th>ac</th>\n",
       "      <th>v</th>\n",
       "    </tr>\n",
       "    <tr>\n",
       "      <th>Date</th>\n",
       "      <th></th>\n",
       "      <th></th>\n",
       "      <th></th>\n",
       "      <th></th>\n",
       "      <th></th>\n",
       "      <th></th>\n",
       "    </tr>\n",
       "  </thead>\n",
       "  <tbody>\n",
       "    <tr>\n",
       "      <th>2010-12-01</th>\n",
       "      <td>11.259643</td>\n",
       "      <td>11.348214</td>\n",
       "      <td>11.250000</td>\n",
       "      <td>11.300000</td>\n",
       "      <td>9.578779</td>\n",
       "      <td>461750800</td>\n",
       "    </tr>\n",
       "    <tr>\n",
       "      <th>2010-12-02</th>\n",
       "      <td>11.340357</td>\n",
       "      <td>11.392857</td>\n",
       "      <td>11.246071</td>\n",
       "      <td>11.362500</td>\n",
       "      <td>9.631762</td>\n",
       "      <td>462837200</td>\n",
       "    </tr>\n",
       "    <tr>\n",
       "      <th>2010-12-03</th>\n",
       "      <td>11.321786</td>\n",
       "      <td>11.380357</td>\n",
       "      <td>11.297857</td>\n",
       "      <td>11.337143</td>\n",
       "      <td>9.610267</td>\n",
       "      <td>342092800</td>\n",
       "    </tr>\n",
       "    <tr>\n",
       "      <th>2010-12-06</th>\n",
       "      <td>11.380000</td>\n",
       "      <td>11.511786</td>\n",
       "      <td>11.372143</td>\n",
       "      <td>11.433929</td>\n",
       "      <td>9.692309</td>\n",
       "      <td>448481600</td>\n",
       "    </tr>\n",
       "    <tr>\n",
       "      <th>2010-12-07</th>\n",
       "      <td>11.564286</td>\n",
       "      <td>11.571071</td>\n",
       "      <td>11.361429</td>\n",
       "      <td>11.364643</td>\n",
       "      <td>9.633577</td>\n",
       "      <td>391454000</td>\n",
       "    </tr>\n",
       "  </tbody>\n",
       "</table>\n",
       "</div>"
      ],
      "text/plain": [
       "                    o          h          l          c        ac          v\n",
       "Date                                                                       \n",
       "2010-12-01  11.259643  11.348214  11.250000  11.300000  9.578779  461750800\n",
       "2010-12-02  11.340357  11.392857  11.246071  11.362500  9.631762  462837200\n",
       "2010-12-03  11.321786  11.380357  11.297857  11.337143  9.610267  342092800\n",
       "2010-12-06  11.380000  11.511786  11.372143  11.433929  9.692309  448481600\n",
       "2010-12-07  11.564286  11.571071  11.361429  11.364643  9.633577  391454000"
      ]
     },
     "execution_count": 6,
     "metadata": {},
     "output_type": "execute_result"
    }
   ],
   "source": [
    "aapl_day = aapl_day.rename(columns={'Adj Close': 'ac',\n",
    "                                    'Open': 'o',\n",
    "                                    'High': 'h',\n",
    "                                    'Low': 'l',\n",
    "                                    'Close': 'c',\n",
    "                                    'Volume': 'v'\n",
    "                                   })\n",
    "aapl_day.head()"
   ]
  },
  {
   "cell_type": "code",
   "execution_count": 7,
   "id": "fe4f8f6a",
   "metadata": {},
   "outputs": [
    {
     "data": {
      "text/html": [
       "<div>\n",
       "<style scoped>\n",
       "    .dataframe tbody tr th:only-of-type {\n",
       "        vertical-align: middle;\n",
       "    }\n",
       "\n",
       "    .dataframe tbody tr th {\n",
       "        vertical-align: top;\n",
       "    }\n",
       "\n",
       "    .dataframe thead th {\n",
       "        text-align: right;\n",
       "    }\n",
       "</style>\n",
       "<table border=\"1\" class=\"dataframe\">\n",
       "  <thead>\n",
       "    <tr style=\"text-align: right;\">\n",
       "      <th></th>\n",
       "      <th>ac</th>\n",
       "      <th>v</th>\n",
       "    </tr>\n",
       "    <tr>\n",
       "      <th>Date</th>\n",
       "      <th></th>\n",
       "      <th></th>\n",
       "    </tr>\n",
       "  </thead>\n",
       "  <tbody>\n",
       "    <tr>\n",
       "      <th>2010-12-01</th>\n",
       "      <td>9.578779</td>\n",
       "      <td>461750800</td>\n",
       "    </tr>\n",
       "    <tr>\n",
       "      <th>2010-12-02</th>\n",
       "      <td>9.631762</td>\n",
       "      <td>462837200</td>\n",
       "    </tr>\n",
       "  </tbody>\n",
       "</table>\n",
       "</div>"
      ],
      "text/plain": [
       "                  ac          v\n",
       "Date                           \n",
       "2010-12-01  9.578779  461750800\n",
       "2010-12-02  9.631762  462837200"
      ]
     },
     "execution_count": 7,
     "metadata": {},
     "output_type": "execute_result"
    }
   ],
   "source": [
    "aapl_main = aapl_day[['ac', 'v']]\n",
    "aapl_main.head(2)"
   ]
  },
  {
   "cell_type": "code",
   "execution_count": 8,
   "id": "653bc5e1",
   "metadata": {},
   "outputs": [
    {
     "data": {
      "text/html": [
       "<div>\n",
       "<style scoped>\n",
       "    .dataframe tbody tr th:only-of-type {\n",
       "        vertical-align: middle;\n",
       "    }\n",
       "\n",
       "    .dataframe tbody tr th {\n",
       "        vertical-align: top;\n",
       "    }\n",
       "\n",
       "    .dataframe thead th {\n",
       "        text-align: right;\n",
       "    }\n",
       "</style>\n",
       "<table border=\"1\" class=\"dataframe\">\n",
       "  <thead>\n",
       "    <tr style=\"text-align: right;\">\n",
       "      <th></th>\n",
       "      <th>ac</th>\n",
       "      <th>v</th>\n",
       "      <th>ac1</th>\n",
       "    </tr>\n",
       "    <tr>\n",
       "      <th>Date</th>\n",
       "      <th></th>\n",
       "      <th></th>\n",
       "      <th></th>\n",
       "    </tr>\n",
       "  </thead>\n",
       "  <tbody>\n",
       "    <tr>\n",
       "      <th>2010-12-01</th>\n",
       "      <td>9.578779</td>\n",
       "      <td>461750800</td>\n",
       "      <td>NaN</td>\n",
       "    </tr>\n",
       "    <tr>\n",
       "      <th>2010-12-02</th>\n",
       "      <td>9.631762</td>\n",
       "      <td>462837200</td>\n",
       "      <td>0.005531</td>\n",
       "    </tr>\n",
       "    <tr>\n",
       "      <th>2010-12-03</th>\n",
       "      <td>9.610267</td>\n",
       "      <td>342092800</td>\n",
       "      <td>-0.002232</td>\n",
       "    </tr>\n",
       "    <tr>\n",
       "      <th>2010-12-06</th>\n",
       "      <td>9.692309</td>\n",
       "      <td>448481600</td>\n",
       "      <td>0.008537</td>\n",
       "    </tr>\n",
       "    <tr>\n",
       "      <th>2010-12-07</th>\n",
       "      <td>9.633577</td>\n",
       "      <td>391454000</td>\n",
       "      <td>-0.006060</td>\n",
       "    </tr>\n",
       "  </tbody>\n",
       "</table>\n",
       "</div>"
      ],
      "text/plain": [
       "                  ac          v       ac1\n",
       "Date                                     \n",
       "2010-12-01  9.578779  461750800       NaN\n",
       "2010-12-02  9.631762  462837200  0.005531\n",
       "2010-12-03  9.610267  342092800 -0.002232\n",
       "2010-12-06  9.692309  448481600  0.008537\n",
       "2010-12-07  9.633577  391454000 -0.006060"
      ]
     },
     "execution_count": 8,
     "metadata": {},
     "output_type": "execute_result"
    }
   ],
   "source": [
    "aapl_main['ac1'] = aapl_main['ac'].pct_change(1) # find percent change from previous day of adj close\n",
    "aapl_main.head()"
   ]
  },
  {
   "cell_type": "code",
   "execution_count": 9,
   "id": "83becdc5",
   "metadata": {},
   "outputs": [
    {
     "data": {
      "text/html": [
       "<div>\n",
       "<style scoped>\n",
       "    .dataframe tbody tr th:only-of-type {\n",
       "        vertical-align: middle;\n",
       "    }\n",
       "\n",
       "    .dataframe tbody tr th {\n",
       "        vertical-align: top;\n",
       "    }\n",
       "\n",
       "    .dataframe thead th {\n",
       "        text-align: right;\n",
       "    }\n",
       "</style>\n",
       "<table border=\"1\" class=\"dataframe\">\n",
       "  <thead>\n",
       "    <tr style=\"text-align: right;\">\n",
       "      <th></th>\n",
       "      <th>ac</th>\n",
       "      <th>v</th>\n",
       "      <th>ac1</th>\n",
       "      <th>mean_rol5</th>\n",
       "    </tr>\n",
       "    <tr>\n",
       "      <th>Date</th>\n",
       "      <th></th>\n",
       "      <th></th>\n",
       "      <th></th>\n",
       "      <th></th>\n",
       "    </tr>\n",
       "  </thead>\n",
       "  <tbody>\n",
       "    <tr>\n",
       "      <th>2010-12-01</th>\n",
       "      <td>9.578779</td>\n",
       "      <td>461750800</td>\n",
       "      <td>NaN</td>\n",
       "      <td>NaN</td>\n",
       "    </tr>\n",
       "    <tr>\n",
       "      <th>2010-12-02</th>\n",
       "      <td>9.631762</td>\n",
       "      <td>462837200</td>\n",
       "      <td>0.005531</td>\n",
       "      <td>NaN</td>\n",
       "    </tr>\n",
       "    <tr>\n",
       "      <th>2010-12-03</th>\n",
       "      <td>9.610267</td>\n",
       "      <td>342092800</td>\n",
       "      <td>-0.002232</td>\n",
       "      <td>NaN</td>\n",
       "    </tr>\n",
       "    <tr>\n",
       "      <th>2010-12-06</th>\n",
       "      <td>9.692309</td>\n",
       "      <td>448481600</td>\n",
       "      <td>0.008537</td>\n",
       "      <td>NaN</td>\n",
       "    </tr>\n",
       "    <tr>\n",
       "      <th>2010-12-07</th>\n",
       "      <td>9.633577</td>\n",
       "      <td>391454000</td>\n",
       "      <td>-0.006060</td>\n",
       "      <td>9.629339</td>\n",
       "    </tr>\n",
       "    <tr>\n",
       "      <th>2010-12-08</th>\n",
       "      <td>9.718342</td>\n",
       "      <td>321935600</td>\n",
       "      <td>0.008799</td>\n",
       "      <td>9.657251</td>\n",
       "    </tr>\n",
       "  </tbody>\n",
       "</table>\n",
       "</div>"
      ],
      "text/plain": [
       "                  ac          v       ac1  mean_rol5\n",
       "Date                                                \n",
       "2010-12-01  9.578779  461750800       NaN        NaN\n",
       "2010-12-02  9.631762  462837200  0.005531        NaN\n",
       "2010-12-03  9.610267  342092800 -0.002232        NaN\n",
       "2010-12-06  9.692309  448481600  0.008537        NaN\n",
       "2010-12-07  9.633577  391454000 -0.006060   9.629339\n",
       "2010-12-08  9.718342  321935600  0.008799   9.657251"
      ]
     },
     "execution_count": 9,
     "metadata": {},
     "output_type": "execute_result"
    }
   ],
   "source": [
    "aapl_main['mean_rol5'] = aapl_main['ac'].rolling(window=5).mean()\n",
    "aapl_main.head(6)"
   ]
  },
  {
   "cell_type": "code",
   "execution_count": 10,
   "id": "1b8072fb",
   "metadata": {},
   "outputs": [
    {
     "data": {
      "text/plain": [
       "'2.2.0'"
      ]
     },
     "execution_count": 10,
     "metadata": {},
     "output_type": "execute_result"
    }
   ],
   "source": [
    "pd.__version__ # dunder command to find version"
   ]
  },
  {
   "cell_type": "code",
   "execution_count": 11,
   "id": "78924a95",
   "metadata": {},
   "outputs": [
    {
     "data": {
      "text/html": [
       "<div>\n",
       "<style scoped>\n",
       "    .dataframe tbody tr th:only-of-type {\n",
       "        vertical-align: middle;\n",
       "    }\n",
       "\n",
       "    .dataframe tbody tr th {\n",
       "        vertical-align: top;\n",
       "    }\n",
       "\n",
       "    .dataframe thead th {\n",
       "        text-align: right;\n",
       "    }\n",
       "</style>\n",
       "<table border=\"1\" class=\"dataframe\">\n",
       "  <thead>\n",
       "    <tr style=\"text-align: right;\">\n",
       "      <th></th>\n",
       "      <th>ac</th>\n",
       "      <th>v</th>\n",
       "      <th>ac1</th>\n",
       "      <th>mean_rol5</th>\n",
       "      <th>std_rol5</th>\n",
       "    </tr>\n",
       "    <tr>\n",
       "      <th>Date</th>\n",
       "      <th></th>\n",
       "      <th></th>\n",
       "      <th></th>\n",
       "      <th></th>\n",
       "      <th></th>\n",
       "    </tr>\n",
       "  </thead>\n",
       "  <tbody>\n",
       "    <tr>\n",
       "      <th>2010-12-01</th>\n",
       "      <td>9.578779</td>\n",
       "      <td>461750800</td>\n",
       "      <td>NaN</td>\n",
       "      <td>NaN</td>\n",
       "      <td>NaN</td>\n",
       "    </tr>\n",
       "    <tr>\n",
       "      <th>2010-12-02</th>\n",
       "      <td>9.631762</td>\n",
       "      <td>462837200</td>\n",
       "      <td>0.005531</td>\n",
       "      <td>NaN</td>\n",
       "      <td>NaN</td>\n",
       "    </tr>\n",
       "    <tr>\n",
       "      <th>2010-12-03</th>\n",
       "      <td>9.610267</td>\n",
       "      <td>342092800</td>\n",
       "      <td>-0.002232</td>\n",
       "      <td>NaN</td>\n",
       "      <td>NaN</td>\n",
       "    </tr>\n",
       "    <tr>\n",
       "      <th>2010-12-06</th>\n",
       "      <td>9.692309</td>\n",
       "      <td>448481600</td>\n",
       "      <td>0.008537</td>\n",
       "      <td>NaN</td>\n",
       "      <td>NaN</td>\n",
       "    </tr>\n",
       "    <tr>\n",
       "      <th>2010-12-07</th>\n",
       "      <td>9.633577</td>\n",
       "      <td>391454000</td>\n",
       "      <td>-0.006060</td>\n",
       "      <td>9.629339</td>\n",
       "      <td>0.041561</td>\n",
       "    </tr>\n",
       "    <tr>\n",
       "      <th>2010-12-08</th>\n",
       "      <td>9.718342</td>\n",
       "      <td>321935600</td>\n",
       "      <td>0.008799</td>\n",
       "      <td>9.657251</td>\n",
       "      <td>0.045768</td>\n",
       "    </tr>\n",
       "  </tbody>\n",
       "</table>\n",
       "</div>"
      ],
      "text/plain": [
       "                  ac          v       ac1  mean_rol5  std_rol5\n",
       "Date                                                          \n",
       "2010-12-01  9.578779  461750800       NaN        NaN       NaN\n",
       "2010-12-02  9.631762  462837200  0.005531        NaN       NaN\n",
       "2010-12-03  9.610267  342092800 -0.002232        NaN       NaN\n",
       "2010-12-06  9.692309  448481600  0.008537        NaN       NaN\n",
       "2010-12-07  9.633577  391454000 -0.006060   9.629339  0.041561\n",
       "2010-12-08  9.718342  321935600  0.008799   9.657251  0.045768"
      ]
     },
     "execution_count": 11,
     "metadata": {},
     "output_type": "execute_result"
    }
   ],
   "source": [
    "aapl_main['std_rol5'] = aapl_main['ac'].rolling(window=5).std()\n",
    "aapl_main.head(6)"
   ]
  },
  {
   "cell_type": "code",
   "execution_count": 12,
   "id": "4151be7b",
   "metadata": {},
   "outputs": [
    {
     "data": {
      "text/html": [
       "<div>\n",
       "<style scoped>\n",
       "    .dataframe tbody tr th:only-of-type {\n",
       "        vertical-align: middle;\n",
       "    }\n",
       "\n",
       "    .dataframe tbody tr th {\n",
       "        vertical-align: top;\n",
       "    }\n",
       "\n",
       "    .dataframe thead th {\n",
       "        text-align: right;\n",
       "    }\n",
       "</style>\n",
       "<table border=\"1\" class=\"dataframe\">\n",
       "  <thead>\n",
       "    <tr style=\"text-align: right;\">\n",
       "      <th></th>\n",
       "      <th>ac</th>\n",
       "      <th>v</th>\n",
       "      <th>ac1</th>\n",
       "      <th>mean_rol5</th>\n",
       "      <th>std_rol5</th>\n",
       "      <th>z_score5</th>\n",
       "    </tr>\n",
       "    <tr>\n",
       "      <th>Date</th>\n",
       "      <th></th>\n",
       "      <th></th>\n",
       "      <th></th>\n",
       "      <th></th>\n",
       "      <th></th>\n",
       "      <th></th>\n",
       "    </tr>\n",
       "  </thead>\n",
       "  <tbody>\n",
       "    <tr>\n",
       "      <th>2010-12-01</th>\n",
       "      <td>9.578779</td>\n",
       "      <td>461750800</td>\n",
       "      <td>NaN</td>\n",
       "      <td>NaN</td>\n",
       "      <td>NaN</td>\n",
       "      <td>NaN</td>\n",
       "    </tr>\n",
       "    <tr>\n",
       "      <th>2010-12-02</th>\n",
       "      <td>9.631762</td>\n",
       "      <td>462837200</td>\n",
       "      <td>0.005531</td>\n",
       "      <td>NaN</td>\n",
       "      <td>NaN</td>\n",
       "      <td>NaN</td>\n",
       "    </tr>\n",
       "    <tr>\n",
       "      <th>2010-12-03</th>\n",
       "      <td>9.610267</td>\n",
       "      <td>342092800</td>\n",
       "      <td>-0.002232</td>\n",
       "      <td>NaN</td>\n",
       "      <td>NaN</td>\n",
       "      <td>NaN</td>\n",
       "    </tr>\n",
       "    <tr>\n",
       "      <th>2010-12-06</th>\n",
       "      <td>9.692309</td>\n",
       "      <td>448481600</td>\n",
       "      <td>0.008537</td>\n",
       "      <td>NaN</td>\n",
       "      <td>NaN</td>\n",
       "      <td>NaN</td>\n",
       "    </tr>\n",
       "    <tr>\n",
       "      <th>2010-12-07</th>\n",
       "      <td>9.633577</td>\n",
       "      <td>391454000</td>\n",
       "      <td>-0.006060</td>\n",
       "      <td>9.629339</td>\n",
       "      <td>0.041561</td>\n",
       "      <td>0.101984</td>\n",
       "    </tr>\n",
       "    <tr>\n",
       "      <th>2010-12-08</th>\n",
       "      <td>9.718342</td>\n",
       "      <td>321935600</td>\n",
       "      <td>0.008799</td>\n",
       "      <td>9.657251</td>\n",
       "      <td>0.045768</td>\n",
       "      <td>1.334784</td>\n",
       "    </tr>\n",
       "  </tbody>\n",
       "</table>\n",
       "</div>"
      ],
      "text/plain": [
       "                  ac          v       ac1  mean_rol5  std_rol5  z_score5\n",
       "Date                                                                    \n",
       "2010-12-01  9.578779  461750800       NaN        NaN       NaN       NaN\n",
       "2010-12-02  9.631762  462837200  0.005531        NaN       NaN       NaN\n",
       "2010-12-03  9.610267  342092800 -0.002232        NaN       NaN       NaN\n",
       "2010-12-06  9.692309  448481600  0.008537        NaN       NaN       NaN\n",
       "2010-12-07  9.633577  391454000 -0.006060   9.629339  0.041561  0.101984\n",
       "2010-12-08  9.718342  321935600  0.008799   9.657251  0.045768  1.334784"
      ]
     },
     "execution_count": 12,
     "metadata": {},
     "output_type": "execute_result"
    }
   ],
   "source": [
    "aapl_main['z_score5'] = (aapl_main['ac']-aapl_main['mean_rol5']) / aapl_main['std_rol5']\n",
    "aapl_main.head(6)"
   ]
  },
  {
   "cell_type": "code",
   "execution_count": 13,
   "id": "8333d109",
   "metadata": {},
   "outputs": [
    {
     "data": {
      "text/html": [
       "<div>\n",
       "<style scoped>\n",
       "    .dataframe tbody tr th:only-of-type {\n",
       "        vertical-align: middle;\n",
       "    }\n",
       "\n",
       "    .dataframe tbody tr th {\n",
       "        vertical-align: top;\n",
       "    }\n",
       "\n",
       "    .dataframe thead th {\n",
       "        text-align: right;\n",
       "    }\n",
       "</style>\n",
       "<table border=\"1\" class=\"dataframe\">\n",
       "  <thead>\n",
       "    <tr style=\"text-align: right;\">\n",
       "      <th></th>\n",
       "      <th>ac</th>\n",
       "      <th>v</th>\n",
       "      <th>ac1</th>\n",
       "      <th>mean_rol5</th>\n",
       "      <th>std_rol5</th>\n",
       "      <th>z_score5</th>\n",
       "    </tr>\n",
       "    <tr>\n",
       "      <th>Date</th>\n",
       "      <th></th>\n",
       "      <th></th>\n",
       "      <th></th>\n",
       "      <th></th>\n",
       "      <th></th>\n",
       "      <th></th>\n",
       "    </tr>\n",
       "  </thead>\n",
       "  <tbody>\n",
       "    <tr>\n",
       "      <th>2010-12-01</th>\n",
       "      <td>9.578779</td>\n",
       "      <td>461750800</td>\n",
       "      <td>NaN</td>\n",
       "      <td>NaN</td>\n",
       "      <td>NaN</td>\n",
       "      <td>NaN</td>\n",
       "    </tr>\n",
       "    <tr>\n",
       "      <th>2010-12-02</th>\n",
       "      <td>9.631762</td>\n",
       "      <td>462837200</td>\n",
       "      <td>0.005531</td>\n",
       "      <td>NaN</td>\n",
       "      <td>NaN</td>\n",
       "      <td>NaN</td>\n",
       "    </tr>\n",
       "    <tr>\n",
       "      <th>2010-12-03</th>\n",
       "      <td>9.610267</td>\n",
       "      <td>342092800</td>\n",
       "      <td>-0.002232</td>\n",
       "      <td>NaN</td>\n",
       "      <td>NaN</td>\n",
       "      <td>NaN</td>\n",
       "    </tr>\n",
       "    <tr>\n",
       "      <th>2010-12-06</th>\n",
       "      <td>9.692309</td>\n",
       "      <td>448481600</td>\n",
       "      <td>0.008537</td>\n",
       "      <td>NaN</td>\n",
       "      <td>NaN</td>\n",
       "      <td>NaN</td>\n",
       "    </tr>\n",
       "    <tr>\n",
       "      <th>2010-12-07</th>\n",
       "      <td>9.633577</td>\n",
       "      <td>391454000</td>\n",
       "      <td>-0.006060</td>\n",
       "      <td>9.629339</td>\n",
       "      <td>0.041561</td>\n",
       "      <td>0.101984</td>\n",
       "    </tr>\n",
       "    <tr>\n",
       "      <th>2010-12-08</th>\n",
       "      <td>9.718342</td>\n",
       "      <td>321935600</td>\n",
       "      <td>0.008799</td>\n",
       "      <td>9.657251</td>\n",
       "      <td>0.045768</td>\n",
       "      <td>1.334784</td>\n",
       "    </tr>\n",
       "    <tr>\n",
       "      <th>2010-12-09</th>\n",
       "      <td>9.680505</td>\n",
       "      <td>294151200</td>\n",
       "      <td>-0.003893</td>\n",
       "      <td>9.667000</td>\n",
       "      <td>0.044144</td>\n",
       "      <td>0.305928</td>\n",
       "    </tr>\n",
       "    <tr>\n",
       "      <th>2010-12-10</th>\n",
       "      <td>9.704722</td>\n",
       "      <td>262511200</td>\n",
       "      <td>0.002502</td>\n",
       "      <td>9.685891</td>\n",
       "      <td>0.032460</td>\n",
       "      <td>0.580137</td>\n",
       "    </tr>\n",
       "    <tr>\n",
       "      <th>2010-12-13</th>\n",
       "      <td>9.738327</td>\n",
       "      <td>439815600</td>\n",
       "      <td>0.003463</td>\n",
       "      <td>9.695095</td>\n",
       "      <td>0.040309</td>\n",
       "      <td>1.072512</td>\n",
       "    </tr>\n",
       "    <tr>\n",
       "      <th>2010-12-14</th>\n",
       "      <td>9.696549</td>\n",
       "      <td>351008000</td>\n",
       "      <td>-0.004290</td>\n",
       "      <td>9.707689</td>\n",
       "      <td>0.021932</td>\n",
       "      <td>-0.507920</td>\n",
       "    </tr>\n",
       "  </tbody>\n",
       "</table>\n",
       "</div>"
      ],
      "text/plain": [
       "                  ac          v       ac1  mean_rol5  std_rol5  z_score5\n",
       "Date                                                                    \n",
       "2010-12-01  9.578779  461750800       NaN        NaN       NaN       NaN\n",
       "2010-12-02  9.631762  462837200  0.005531        NaN       NaN       NaN\n",
       "2010-12-03  9.610267  342092800 -0.002232        NaN       NaN       NaN\n",
       "2010-12-06  9.692309  448481600  0.008537        NaN       NaN       NaN\n",
       "2010-12-07  9.633577  391454000 -0.006060   9.629339  0.041561  0.101984\n",
       "2010-12-08  9.718342  321935600  0.008799   9.657251  0.045768  1.334784\n",
       "2010-12-09  9.680505  294151200 -0.003893   9.667000  0.044144  0.305928\n",
       "2010-12-10  9.704722  262511200  0.002502   9.685891  0.032460  0.580137\n",
       "2010-12-13  9.738327  439815600  0.003463   9.695095  0.040309  1.072512\n",
       "2010-12-14  9.696549  351008000 -0.004290   9.707689  0.021932 -0.507920"
      ]
     },
     "execution_count": 13,
     "metadata": {},
     "output_type": "execute_result"
    }
   ],
   "source": [
    "aapl_main.head(10)"
   ]
  },
  {
   "cell_type": "code",
   "execution_count": 14,
   "id": "a1e3ec88",
   "metadata": {},
   "outputs": [
    {
     "data": {
      "text/plain": [
       "0.0010576232486500436"
      ]
     },
     "execution_count": 14,
     "metadata": {},
     "output_type": "execute_result"
    }
   ],
   "source": [
    "aapl_main['ac1'].mean()"
   ]
  },
  {
   "cell_type": "code",
   "execution_count": 15,
   "id": "ce75ac4f",
   "metadata": {},
   "outputs": [],
   "source": [
    "def up_down(pct_change):\n",
    "    if pct_change > 0:\n",
    "        return 1\n",
    "    else: \n",
    "        return 0"
   ]
  },
  {
   "cell_type": "code",
   "execution_count": 16,
   "id": "304b73d5",
   "metadata": {},
   "outputs": [
    {
     "data": {
      "text/plain": [
       "1"
      ]
     },
     "execution_count": 16,
     "metadata": {},
     "output_type": "execute_result"
    }
   ],
   "source": [
    "up_down(1)"
   ]
  },
  {
   "cell_type": "code",
   "execution_count": 17,
   "id": "7e43287b",
   "metadata": {},
   "outputs": [
    {
     "data": {
      "text/html": [
       "<div>\n",
       "<style scoped>\n",
       "    .dataframe tbody tr th:only-of-type {\n",
       "        vertical-align: middle;\n",
       "    }\n",
       "\n",
       "    .dataframe tbody tr th {\n",
       "        vertical-align: top;\n",
       "    }\n",
       "\n",
       "    .dataframe thead th {\n",
       "        text-align: right;\n",
       "    }\n",
       "</style>\n",
       "<table border=\"1\" class=\"dataframe\">\n",
       "  <thead>\n",
       "    <tr style=\"text-align: right;\">\n",
       "      <th></th>\n",
       "      <th>ac</th>\n",
       "      <th>v</th>\n",
       "      <th>ac1</th>\n",
       "      <th>mean_rol5</th>\n",
       "      <th>std_rol5</th>\n",
       "      <th>z_score5</th>\n",
       "      <th>ac1_pred</th>\n",
       "    </tr>\n",
       "    <tr>\n",
       "      <th>Date</th>\n",
       "      <th></th>\n",
       "      <th></th>\n",
       "      <th></th>\n",
       "      <th></th>\n",
       "      <th></th>\n",
       "      <th></th>\n",
       "      <th></th>\n",
       "    </tr>\n",
       "  </thead>\n",
       "  <tbody>\n",
       "    <tr>\n",
       "      <th>2010-12-01</th>\n",
       "      <td>9.578779</td>\n",
       "      <td>461750800</td>\n",
       "      <td>NaN</td>\n",
       "      <td>NaN</td>\n",
       "      <td>NaN</td>\n",
       "      <td>NaN</td>\n",
       "      <td>0</td>\n",
       "    </tr>\n",
       "    <tr>\n",
       "      <th>2010-12-02</th>\n",
       "      <td>9.631762</td>\n",
       "      <td>462837200</td>\n",
       "      <td>0.005531</td>\n",
       "      <td>NaN</td>\n",
       "      <td>NaN</td>\n",
       "      <td>NaN</td>\n",
       "      <td>1</td>\n",
       "    </tr>\n",
       "    <tr>\n",
       "      <th>2010-12-03</th>\n",
       "      <td>9.610267</td>\n",
       "      <td>342092800</td>\n",
       "      <td>-0.002232</td>\n",
       "      <td>NaN</td>\n",
       "      <td>NaN</td>\n",
       "      <td>NaN</td>\n",
       "      <td>0</td>\n",
       "    </tr>\n",
       "    <tr>\n",
       "      <th>2010-12-06</th>\n",
       "      <td>9.692309</td>\n",
       "      <td>448481600</td>\n",
       "      <td>0.008537</td>\n",
       "      <td>NaN</td>\n",
       "      <td>NaN</td>\n",
       "      <td>NaN</td>\n",
       "      <td>1</td>\n",
       "    </tr>\n",
       "    <tr>\n",
       "      <th>2010-12-07</th>\n",
       "      <td>9.633577</td>\n",
       "      <td>391454000</td>\n",
       "      <td>-0.006060</td>\n",
       "      <td>9.629339</td>\n",
       "      <td>0.041561</td>\n",
       "      <td>0.101984</td>\n",
       "      <td>0</td>\n",
       "    </tr>\n",
       "    <tr>\n",
       "      <th>2010-12-08</th>\n",
       "      <td>9.718342</td>\n",
       "      <td>321935600</td>\n",
       "      <td>0.008799</td>\n",
       "      <td>9.657251</td>\n",
       "      <td>0.045768</td>\n",
       "      <td>1.334784</td>\n",
       "      <td>1</td>\n",
       "    </tr>\n",
       "    <tr>\n",
       "      <th>2010-12-09</th>\n",
       "      <td>9.680505</td>\n",
       "      <td>294151200</td>\n",
       "      <td>-0.003893</td>\n",
       "      <td>9.667000</td>\n",
       "      <td>0.044144</td>\n",
       "      <td>0.305928</td>\n",
       "      <td>0</td>\n",
       "    </tr>\n",
       "    <tr>\n",
       "      <th>2010-12-10</th>\n",
       "      <td>9.704722</td>\n",
       "      <td>262511200</td>\n",
       "      <td>0.002502</td>\n",
       "      <td>9.685891</td>\n",
       "      <td>0.032460</td>\n",
       "      <td>0.580137</td>\n",
       "      <td>1</td>\n",
       "    </tr>\n",
       "    <tr>\n",
       "      <th>2010-12-13</th>\n",
       "      <td>9.738327</td>\n",
       "      <td>439815600</td>\n",
       "      <td>0.003463</td>\n",
       "      <td>9.695095</td>\n",
       "      <td>0.040309</td>\n",
       "      <td>1.072512</td>\n",
       "      <td>1</td>\n",
       "    </tr>\n",
       "    <tr>\n",
       "      <th>2010-12-14</th>\n",
       "      <td>9.696549</td>\n",
       "      <td>351008000</td>\n",
       "      <td>-0.004290</td>\n",
       "      <td>9.707689</td>\n",
       "      <td>0.021932</td>\n",
       "      <td>-0.507920</td>\n",
       "      <td>0</td>\n",
       "    </tr>\n",
       "  </tbody>\n",
       "</table>\n",
       "</div>"
      ],
      "text/plain": [
       "                  ac          v       ac1  mean_rol5  std_rol5  z_score5  \\\n",
       "Date                                                                       \n",
       "2010-12-01  9.578779  461750800       NaN        NaN       NaN       NaN   \n",
       "2010-12-02  9.631762  462837200  0.005531        NaN       NaN       NaN   \n",
       "2010-12-03  9.610267  342092800 -0.002232        NaN       NaN       NaN   \n",
       "2010-12-06  9.692309  448481600  0.008537        NaN       NaN       NaN   \n",
       "2010-12-07  9.633577  391454000 -0.006060   9.629339  0.041561  0.101984   \n",
       "2010-12-08  9.718342  321935600  0.008799   9.657251  0.045768  1.334784   \n",
       "2010-12-09  9.680505  294151200 -0.003893   9.667000  0.044144  0.305928   \n",
       "2010-12-10  9.704722  262511200  0.002502   9.685891  0.032460  0.580137   \n",
       "2010-12-13  9.738327  439815600  0.003463   9.695095  0.040309  1.072512   \n",
       "2010-12-14  9.696549  351008000 -0.004290   9.707689  0.021932 -0.507920   \n",
       "\n",
       "            ac1_pred  \n",
       "Date                  \n",
       "2010-12-01         0  \n",
       "2010-12-02         1  \n",
       "2010-12-03         0  \n",
       "2010-12-06         1  \n",
       "2010-12-07         0  \n",
       "2010-12-08         1  \n",
       "2010-12-09         0  \n",
       "2010-12-10         1  \n",
       "2010-12-13         1  \n",
       "2010-12-14         0  "
      ]
     },
     "execution_count": 17,
     "metadata": {},
     "output_type": "execute_result"
    }
   ],
   "source": [
    "aapl_main['ac1_pred'] = aapl_main.apply(lambda row: up_down(row['ac1']), axis=1)\n",
    "aapl_main.head(10)"
   ]
  },
  {
   "cell_type": "code",
   "execution_count": 18,
   "id": "34d162e7",
   "metadata": {},
   "outputs": [
    {
     "data": {
      "text/html": [
       "<div>\n",
       "<style scoped>\n",
       "    .dataframe tbody tr th:only-of-type {\n",
       "        vertical-align: middle;\n",
       "    }\n",
       "\n",
       "    .dataframe tbody tr th {\n",
       "        vertical-align: top;\n",
       "    }\n",
       "\n",
       "    .dataframe thead th {\n",
       "        text-align: right;\n",
       "    }\n",
       "</style>\n",
       "<table border=\"1\" class=\"dataframe\">\n",
       "  <thead>\n",
       "    <tr style=\"text-align: right;\">\n",
       "      <th></th>\n",
       "      <th>ac</th>\n",
       "      <th>v</th>\n",
       "      <th>ac1</th>\n",
       "      <th>mean_rol5</th>\n",
       "      <th>std_rol5</th>\n",
       "      <th>z_score5</th>\n",
       "      <th>ac1_pred</th>\n",
       "    </tr>\n",
       "    <tr>\n",
       "      <th>Date</th>\n",
       "      <th></th>\n",
       "      <th></th>\n",
       "      <th></th>\n",
       "      <th></th>\n",
       "      <th></th>\n",
       "      <th></th>\n",
       "      <th></th>\n",
       "    </tr>\n",
       "  </thead>\n",
       "  <tbody>\n",
       "    <tr>\n",
       "      <th>2024-02-01</th>\n",
       "      <td>186.860001</td>\n",
       "      <td>64885400</td>\n",
       "      <td>0.013341</td>\n",
       "      <td>188.689996</td>\n",
       "      <td>3.366379</td>\n",
       "      <td>-0.543610</td>\n",
       "      <td>1</td>\n",
       "    </tr>\n",
       "    <tr>\n",
       "      <th>2024-02-02</th>\n",
       "      <td>185.850006</td>\n",
       "      <td>102518000</td>\n",
       "      <td>-0.005405</td>\n",
       "      <td>187.375998</td>\n",
       "      <td>2.777125</td>\n",
       "      <td>-0.549486</td>\n",
       "      <td>0</td>\n",
       "    </tr>\n",
       "    <tr>\n",
       "      <th>2024-02-05</th>\n",
       "      <td>187.679993</td>\n",
       "      <td>69668800</td>\n",
       "      <td>0.009847</td>\n",
       "      <td>186.565997</td>\n",
       "      <td>1.475153</td>\n",
       "      <td>0.755173</td>\n",
       "      <td>1</td>\n",
       "    </tr>\n",
       "    <tr>\n",
       "      <th>2024-02-06</th>\n",
       "      <td>189.300003</td>\n",
       "      <td>43490800</td>\n",
       "      <td>0.008632</td>\n",
       "      <td>186.817999</td>\n",
       "      <td>1.849926</td>\n",
       "      <td>1.341678</td>\n",
       "      <td>1</td>\n",
       "    </tr>\n",
       "    <tr>\n",
       "      <th>2024-02-07</th>\n",
       "      <td>189.279999</td>\n",
       "      <td>33776023</td>\n",
       "      <td>-0.000106</td>\n",
       "      <td>187.794000</td>\n",
       "      <td>1.511680</td>\n",
       "      <td>0.983011</td>\n",
       "      <td>0</td>\n",
       "    </tr>\n",
       "  </tbody>\n",
       "</table>\n",
       "</div>"
      ],
      "text/plain": [
       "                    ac          v       ac1   mean_rol5  std_rol5  z_score5  \\\n",
       "Date                                                                          \n",
       "2024-02-01  186.860001   64885400  0.013341  188.689996  3.366379 -0.543610   \n",
       "2024-02-02  185.850006  102518000 -0.005405  187.375998  2.777125 -0.549486   \n",
       "2024-02-05  187.679993   69668800  0.009847  186.565997  1.475153  0.755173   \n",
       "2024-02-06  189.300003   43490800  0.008632  186.817999  1.849926  1.341678   \n",
       "2024-02-07  189.279999   33776023 -0.000106  187.794000  1.511680  0.983011   \n",
       "\n",
       "            ac1_pred  \n",
       "Date                  \n",
       "2024-02-01         1  \n",
       "2024-02-02         0  \n",
       "2024-02-05         1  \n",
       "2024-02-06         1  \n",
       "2024-02-07         0  "
      ]
     },
     "execution_count": 18,
     "metadata": {},
     "output_type": "execute_result"
    }
   ],
   "source": [
    "aapl_main.tail(5)"
   ]
  },
  {
   "cell_type": "code",
   "execution_count": 19,
   "id": "8d8ac98a",
   "metadata": {},
   "outputs": [
    {
     "data": {
      "text/html": [
       "<div>\n",
       "<style scoped>\n",
       "    .dataframe tbody tr th:only-of-type {\n",
       "        vertical-align: middle;\n",
       "    }\n",
       "\n",
       "    .dataframe tbody tr th {\n",
       "        vertical-align: top;\n",
       "    }\n",
       "\n",
       "    .dataframe thead th {\n",
       "        text-align: right;\n",
       "    }\n",
       "</style>\n",
       "<table border=\"1\" class=\"dataframe\">\n",
       "  <thead>\n",
       "    <tr style=\"text-align: right;\">\n",
       "      <th></th>\n",
       "      <th>ac</th>\n",
       "      <th>v</th>\n",
       "      <th>ac1</th>\n",
       "      <th>mean_rol5</th>\n",
       "      <th>std_rol5</th>\n",
       "      <th>z_score5</th>\n",
       "      <th>ac1_pred</th>\n",
       "    </tr>\n",
       "    <tr>\n",
       "      <th>Date</th>\n",
       "      <th></th>\n",
       "      <th></th>\n",
       "      <th></th>\n",
       "      <th></th>\n",
       "      <th></th>\n",
       "      <th></th>\n",
       "      <th></th>\n",
       "    </tr>\n",
       "  </thead>\n",
       "  <tbody>\n",
       "    <tr>\n",
       "      <th>2024-02-01</th>\n",
       "      <td>186.860001</td>\n",
       "      <td>64885400</td>\n",
       "      <td>0.013341</td>\n",
       "      <td>188.689996</td>\n",
       "      <td>3.366379</td>\n",
       "      <td>-0.543610</td>\n",
       "      <td>0.0</td>\n",
       "    </tr>\n",
       "    <tr>\n",
       "      <th>2024-02-02</th>\n",
       "      <td>185.850006</td>\n",
       "      <td>102518000</td>\n",
       "      <td>-0.005405</td>\n",
       "      <td>187.375998</td>\n",
       "      <td>2.777125</td>\n",
       "      <td>-0.549486</td>\n",
       "      <td>1.0</td>\n",
       "    </tr>\n",
       "    <tr>\n",
       "      <th>2024-02-05</th>\n",
       "      <td>187.679993</td>\n",
       "      <td>69668800</td>\n",
       "      <td>0.009847</td>\n",
       "      <td>186.565997</td>\n",
       "      <td>1.475153</td>\n",
       "      <td>0.755173</td>\n",
       "      <td>1.0</td>\n",
       "    </tr>\n",
       "    <tr>\n",
       "      <th>2024-02-06</th>\n",
       "      <td>189.300003</td>\n",
       "      <td>43490800</td>\n",
       "      <td>0.008632</td>\n",
       "      <td>186.817999</td>\n",
       "      <td>1.849926</td>\n",
       "      <td>1.341678</td>\n",
       "      <td>0.0</td>\n",
       "    </tr>\n",
       "    <tr>\n",
       "      <th>2024-02-07</th>\n",
       "      <td>189.279999</td>\n",
       "      <td>33776023</td>\n",
       "      <td>-0.000106</td>\n",
       "      <td>187.794000</td>\n",
       "      <td>1.511680</td>\n",
       "      <td>0.983011</td>\n",
       "      <td>NaN</td>\n",
       "    </tr>\n",
       "  </tbody>\n",
       "</table>\n",
       "</div>"
      ],
      "text/plain": [
       "                    ac          v       ac1   mean_rol5  std_rol5  z_score5  \\\n",
       "Date                                                                          \n",
       "2024-02-01  186.860001   64885400  0.013341  188.689996  3.366379 -0.543610   \n",
       "2024-02-02  185.850006  102518000 -0.005405  187.375998  2.777125 -0.549486   \n",
       "2024-02-05  187.679993   69668800  0.009847  186.565997  1.475153  0.755173   \n",
       "2024-02-06  189.300003   43490800  0.008632  186.817999  1.849926  1.341678   \n",
       "2024-02-07  189.279999   33776023 -0.000106  187.794000  1.511680  0.983011   \n",
       "\n",
       "            ac1_pred  \n",
       "Date                  \n",
       "2024-02-01       0.0  \n",
       "2024-02-02       1.0  \n",
       "2024-02-05       1.0  \n",
       "2024-02-06       0.0  \n",
       "2024-02-07       NaN  "
      ]
     },
     "execution_count": 19,
     "metadata": {},
     "output_type": "execute_result"
    }
   ],
   "source": [
    "aapl_main['ac1_pred'] = aapl_main['ac1_pred'].shift(-1)\n",
    "aapl_main.tail(5)"
   ]
  },
  {
   "cell_type": "code",
   "execution_count": 20,
   "id": "04720b2c",
   "metadata": {},
   "outputs": [],
   "source": [
    "column_list = ['ac', 'v', 'mean_rol5', 'std_rol5', 'z_score5']"
   ]
  },
  {
   "cell_type": "code",
   "execution_count": 21,
   "id": "06a8061a",
   "metadata": {},
   "outputs": [
    {
     "data": {
      "text/html": [
       "<div>\n",
       "<style scoped>\n",
       "    .dataframe tbody tr th:only-of-type {\n",
       "        vertical-align: middle;\n",
       "    }\n",
       "\n",
       "    .dataframe tbody tr th {\n",
       "        vertical-align: top;\n",
       "    }\n",
       "\n",
       "    .dataframe thead th {\n",
       "        text-align: right;\n",
       "    }\n",
       "</style>\n",
       "<table border=\"1\" class=\"dataframe\">\n",
       "  <thead>\n",
       "    <tr style=\"text-align: right;\">\n",
       "      <th></th>\n",
       "      <th>ac</th>\n",
       "      <th>v</th>\n",
       "      <th>mean_rol5</th>\n",
       "      <th>std_rol5</th>\n",
       "      <th>z_score5</th>\n",
       "    </tr>\n",
       "    <tr>\n",
       "      <th>Date</th>\n",
       "      <th></th>\n",
       "      <th></th>\n",
       "      <th></th>\n",
       "      <th></th>\n",
       "      <th></th>\n",
       "    </tr>\n",
       "  </thead>\n",
       "  <tbody>\n",
       "    <tr>\n",
       "      <th>2010-12-07</th>\n",
       "      <td>9.633577</td>\n",
       "      <td>391454000</td>\n",
       "      <td>9.629339</td>\n",
       "      <td>0.041561</td>\n",
       "      <td>0.101984</td>\n",
       "    </tr>\n",
       "    <tr>\n",
       "      <th>2010-12-08</th>\n",
       "      <td>9.718342</td>\n",
       "      <td>321935600</td>\n",
       "      <td>9.657251</td>\n",
       "      <td>0.045768</td>\n",
       "      <td>1.334784</td>\n",
       "    </tr>\n",
       "    <tr>\n",
       "      <th>2010-12-09</th>\n",
       "      <td>9.680505</td>\n",
       "      <td>294151200</td>\n",
       "      <td>9.667000</td>\n",
       "      <td>0.044144</td>\n",
       "      <td>0.305928</td>\n",
       "    </tr>\n",
       "    <tr>\n",
       "      <th>2010-12-10</th>\n",
       "      <td>9.704722</td>\n",
       "      <td>262511200</td>\n",
       "      <td>9.685891</td>\n",
       "      <td>0.032460</td>\n",
       "      <td>0.580137</td>\n",
       "    </tr>\n",
       "    <tr>\n",
       "      <th>2010-12-13</th>\n",
       "      <td>9.738327</td>\n",
       "      <td>439815600</td>\n",
       "      <td>9.695095</td>\n",
       "      <td>0.040309</td>\n",
       "      <td>1.072512</td>\n",
       "    </tr>\n",
       "    <tr>\n",
       "      <th>...</th>\n",
       "      <td>...</td>\n",
       "      <td>...</td>\n",
       "      <td>...</td>\n",
       "      <td>...</td>\n",
       "      <td>...</td>\n",
       "    </tr>\n",
       "    <tr>\n",
       "      <th>2024-02-01</th>\n",
       "      <td>186.860001</td>\n",
       "      <td>64885400</td>\n",
       "      <td>188.689996</td>\n",
       "      <td>3.366379</td>\n",
       "      <td>-0.543610</td>\n",
       "    </tr>\n",
       "    <tr>\n",
       "      <th>2024-02-02</th>\n",
       "      <td>185.850006</td>\n",
       "      <td>102518000</td>\n",
       "      <td>187.375998</td>\n",
       "      <td>2.777125</td>\n",
       "      <td>-0.549486</td>\n",
       "    </tr>\n",
       "    <tr>\n",
       "      <th>2024-02-05</th>\n",
       "      <td>187.679993</td>\n",
       "      <td>69668800</td>\n",
       "      <td>186.565997</td>\n",
       "      <td>1.475153</td>\n",
       "      <td>0.755173</td>\n",
       "    </tr>\n",
       "    <tr>\n",
       "      <th>2024-02-06</th>\n",
       "      <td>189.300003</td>\n",
       "      <td>43490800</td>\n",
       "      <td>186.817999</td>\n",
       "      <td>1.849926</td>\n",
       "      <td>1.341678</td>\n",
       "    </tr>\n",
       "    <tr>\n",
       "      <th>2024-02-07</th>\n",
       "      <td>189.279999</td>\n",
       "      <td>33776023</td>\n",
       "      <td>187.794000</td>\n",
       "      <td>1.511680</td>\n",
       "      <td>0.983011</td>\n",
       "    </tr>\n",
       "  </tbody>\n",
       "</table>\n",
       "<p>3314 rows × 5 columns</p>\n",
       "</div>"
      ],
      "text/plain": [
       "                    ac          v   mean_rol5  std_rol5  z_score5\n",
       "Date                                                             \n",
       "2010-12-07    9.633577  391454000    9.629339  0.041561  0.101984\n",
       "2010-12-08    9.718342  321935600    9.657251  0.045768  1.334784\n",
       "2010-12-09    9.680505  294151200    9.667000  0.044144  0.305928\n",
       "2010-12-10    9.704722  262511200    9.685891  0.032460  0.580137\n",
       "2010-12-13    9.738327  439815600    9.695095  0.040309  1.072512\n",
       "...                ...        ...         ...       ...       ...\n",
       "2024-02-01  186.860001   64885400  188.689996  3.366379 -0.543610\n",
       "2024-02-02  185.850006  102518000  187.375998  2.777125 -0.549486\n",
       "2024-02-05  187.679993   69668800  186.565997  1.475153  0.755173\n",
       "2024-02-06  189.300003   43490800  186.817999  1.849926  1.341678\n",
       "2024-02-07  189.279999   33776023  187.794000  1.511680  0.983011\n",
       "\n",
       "[3314 rows x 5 columns]"
      ]
     },
     "execution_count": 21,
     "metadata": {},
     "output_type": "execute_result"
    }
   ],
   "source": [
    "X = aapl_main[column_list].dropna(axis=0).copy()\n",
    "X"
   ]
  },
  {
   "cell_type": "code",
   "execution_count": 22,
   "id": "3083ef6f",
   "metadata": {},
   "outputs": [
    {
     "data": {
      "text/html": [
       "<div>\n",
       "<style scoped>\n",
       "    .dataframe tbody tr th:only-of-type {\n",
       "        vertical-align: middle;\n",
       "    }\n",
       "\n",
       "    .dataframe tbody tr th {\n",
       "        vertical-align: top;\n",
       "    }\n",
       "\n",
       "    .dataframe thead th {\n",
       "        text-align: right;\n",
       "    }\n",
       "</style>\n",
       "<table border=\"1\" class=\"dataframe\">\n",
       "  <thead>\n",
       "    <tr style=\"text-align: right;\">\n",
       "      <th></th>\n",
       "      <th>ac</th>\n",
       "      <th>v</th>\n",
       "      <th>ac1</th>\n",
       "      <th>mean_rol5</th>\n",
       "      <th>std_rol5</th>\n",
       "      <th>z_score5</th>\n",
       "      <th>ac1_pred</th>\n",
       "    </tr>\n",
       "    <tr>\n",
       "      <th>Date</th>\n",
       "      <th></th>\n",
       "      <th></th>\n",
       "      <th></th>\n",
       "      <th></th>\n",
       "      <th></th>\n",
       "      <th></th>\n",
       "      <th></th>\n",
       "    </tr>\n",
       "  </thead>\n",
       "  <tbody>\n",
       "    <tr>\n",
       "      <th>2010-12-01</th>\n",
       "      <td>9.578779</td>\n",
       "      <td>461750800</td>\n",
       "      <td>NaN</td>\n",
       "      <td>NaN</td>\n",
       "      <td>NaN</td>\n",
       "      <td>NaN</td>\n",
       "      <td>1.0</td>\n",
       "    </tr>\n",
       "    <tr>\n",
       "      <th>2010-12-02</th>\n",
       "      <td>9.631762</td>\n",
       "      <td>462837200</td>\n",
       "      <td>0.005531</td>\n",
       "      <td>NaN</td>\n",
       "      <td>NaN</td>\n",
       "      <td>NaN</td>\n",
       "      <td>0.0</td>\n",
       "    </tr>\n",
       "    <tr>\n",
       "      <th>2010-12-03</th>\n",
       "      <td>9.610267</td>\n",
       "      <td>342092800</td>\n",
       "      <td>-0.002232</td>\n",
       "      <td>NaN</td>\n",
       "      <td>NaN</td>\n",
       "      <td>NaN</td>\n",
       "      <td>1.0</td>\n",
       "    </tr>\n",
       "    <tr>\n",
       "      <th>2010-12-06</th>\n",
       "      <td>9.692309</td>\n",
       "      <td>448481600</td>\n",
       "      <td>0.008537</td>\n",
       "      <td>NaN</td>\n",
       "      <td>NaN</td>\n",
       "      <td>NaN</td>\n",
       "      <td>0.0</td>\n",
       "    </tr>\n",
       "    <tr>\n",
       "      <th>2010-12-07</th>\n",
       "      <td>9.633577</td>\n",
       "      <td>391454000</td>\n",
       "      <td>-0.006060</td>\n",
       "      <td>9.629339</td>\n",
       "      <td>0.041561</td>\n",
       "      <td>0.101984</td>\n",
       "      <td>1.0</td>\n",
       "    </tr>\n",
       "    <tr>\n",
       "      <th>...</th>\n",
       "      <td>...</td>\n",
       "      <td>...</td>\n",
       "      <td>...</td>\n",
       "      <td>...</td>\n",
       "      <td>...</td>\n",
       "      <td>...</td>\n",
       "      <td>...</td>\n",
       "    </tr>\n",
       "    <tr>\n",
       "      <th>2024-02-01</th>\n",
       "      <td>186.860001</td>\n",
       "      <td>64885400</td>\n",
       "      <td>0.013341</td>\n",
       "      <td>188.689996</td>\n",
       "      <td>3.366379</td>\n",
       "      <td>-0.543610</td>\n",
       "      <td>0.0</td>\n",
       "    </tr>\n",
       "    <tr>\n",
       "      <th>2024-02-02</th>\n",
       "      <td>185.850006</td>\n",
       "      <td>102518000</td>\n",
       "      <td>-0.005405</td>\n",
       "      <td>187.375998</td>\n",
       "      <td>2.777125</td>\n",
       "      <td>-0.549486</td>\n",
       "      <td>1.0</td>\n",
       "    </tr>\n",
       "    <tr>\n",
       "      <th>2024-02-05</th>\n",
       "      <td>187.679993</td>\n",
       "      <td>69668800</td>\n",
       "      <td>0.009847</td>\n",
       "      <td>186.565997</td>\n",
       "      <td>1.475153</td>\n",
       "      <td>0.755173</td>\n",
       "      <td>1.0</td>\n",
       "    </tr>\n",
       "    <tr>\n",
       "      <th>2024-02-06</th>\n",
       "      <td>189.300003</td>\n",
       "      <td>43490800</td>\n",
       "      <td>0.008632</td>\n",
       "      <td>186.817999</td>\n",
       "      <td>1.849926</td>\n",
       "      <td>1.341678</td>\n",
       "      <td>0.0</td>\n",
       "    </tr>\n",
       "    <tr>\n",
       "      <th>2024-02-07</th>\n",
       "      <td>189.279999</td>\n",
       "      <td>33776023</td>\n",
       "      <td>-0.000106</td>\n",
       "      <td>187.794000</td>\n",
       "      <td>1.511680</td>\n",
       "      <td>0.983011</td>\n",
       "      <td>NaN</td>\n",
       "    </tr>\n",
       "  </tbody>\n",
       "</table>\n",
       "<p>3318 rows × 7 columns</p>\n",
       "</div>"
      ],
      "text/plain": [
       "                    ac          v       ac1   mean_rol5  std_rol5  z_score5  \\\n",
       "Date                                                                          \n",
       "2010-12-01    9.578779  461750800       NaN         NaN       NaN       NaN   \n",
       "2010-12-02    9.631762  462837200  0.005531         NaN       NaN       NaN   \n",
       "2010-12-03    9.610267  342092800 -0.002232         NaN       NaN       NaN   \n",
       "2010-12-06    9.692309  448481600  0.008537         NaN       NaN       NaN   \n",
       "2010-12-07    9.633577  391454000 -0.006060    9.629339  0.041561  0.101984   \n",
       "...                ...        ...       ...         ...       ...       ...   \n",
       "2024-02-01  186.860001   64885400  0.013341  188.689996  3.366379 -0.543610   \n",
       "2024-02-02  185.850006  102518000 -0.005405  187.375998  2.777125 -0.549486   \n",
       "2024-02-05  187.679993   69668800  0.009847  186.565997  1.475153  0.755173   \n",
       "2024-02-06  189.300003   43490800  0.008632  186.817999  1.849926  1.341678   \n",
       "2024-02-07  189.279999   33776023 -0.000106  187.794000  1.511680  0.983011   \n",
       "\n",
       "            ac1_pred  \n",
       "Date                  \n",
       "2010-12-01       1.0  \n",
       "2010-12-02       0.0  \n",
       "2010-12-03       1.0  \n",
       "2010-12-06       0.0  \n",
       "2010-12-07       1.0  \n",
       "...              ...  \n",
       "2024-02-01       0.0  \n",
       "2024-02-02       1.0  \n",
       "2024-02-05       1.0  \n",
       "2024-02-06       0.0  \n",
       "2024-02-07       NaN  \n",
       "\n",
       "[3318 rows x 7 columns]"
      ]
     },
     "execution_count": 22,
     "metadata": {},
     "output_type": "execute_result"
    }
   ],
   "source": [
    "aapl_main"
   ]
  },
  {
   "cell_type": "code",
   "execution_count": 23,
   "id": "934b53c4",
   "metadata": {},
   "outputs": [
    {
     "data": {
      "text/plain": [
       "ac           1.892800e+02\n",
       "v            3.377602e+07\n",
       "ac1         -1.056750e-04\n",
       "mean_rol5    1.877940e+02\n",
       "std_rol5     1.511680e+00\n",
       "z_score5     9.830115e-01\n",
       "ac1_pred              NaN\n",
       "Name: 2024-02-07 00:00:00, dtype: float64"
      ]
     },
     "execution_count": 23,
     "metadata": {},
     "output_type": "execute_result"
    }
   ],
   "source": [
    "aapl_main.iloc[-1]"
   ]
  },
  {
   "cell_type": "code",
   "execution_count": 24,
   "id": "f2deacf9",
   "metadata": {},
   "outputs": [
    {
     "data": {
      "text/plain": [
       "ac           1.892800e+02\n",
       "v            3.377602e+07\n",
       "mean_rol5    1.877940e+02\n",
       "std_rol5     1.511680e+00\n",
       "z_score5     9.830115e-01\n",
       "Name: 2024-02-07 00:00:00, dtype: float64"
      ]
     },
     "execution_count": 24,
     "metadata": {},
     "output_type": "execute_result"
    }
   ],
   "source": [
    "# in X, remove last row, which will be used to to predict tomorrow\n",
    "# also split X to have train and test set\n",
    "X_pred = X.iloc[-1].copy()\n",
    "X_pred"
   ]
  },
  {
   "cell_type": "code",
   "execution_count": 25,
   "id": "6af3d72a",
   "metadata": {},
   "outputs": [
    {
     "data": {
      "text/plain": [
       "Date\n",
       "2010-12-07    1.0\n",
       "2010-12-08    0.0\n",
       "2010-12-09    1.0\n",
       "2010-12-10    1.0\n",
       "2010-12-13    0.0\n",
       "             ... \n",
       "2024-01-31    1.0\n",
       "2024-02-01    0.0\n",
       "2024-02-02    1.0\n",
       "2024-02-05    1.0\n",
       "2024-02-06    0.0\n",
       "Name: ac1_pred, Length: 3313, dtype: float64"
      ]
     },
     "execution_count": 25,
     "metadata": {},
     "output_type": "execute_result"
    }
   ],
   "source": [
    "Y = aapl_main['ac1_pred'].iloc[4:-1].copy()\n",
    "Y"
   ]
  },
  {
   "cell_type": "code",
   "execution_count": 26,
   "id": "3ffcc107",
   "metadata": {},
   "outputs": [
    {
     "data": {
      "text/html": [
       "<div>\n",
       "<style scoped>\n",
       "    .dataframe tbody tr th:only-of-type {\n",
       "        vertical-align: middle;\n",
       "    }\n",
       "\n",
       "    .dataframe tbody tr th {\n",
       "        vertical-align: top;\n",
       "    }\n",
       "\n",
       "    .dataframe thead th {\n",
       "        text-align: right;\n",
       "    }\n",
       "</style>\n",
       "<table border=\"1\" class=\"dataframe\">\n",
       "  <thead>\n",
       "    <tr style=\"text-align: right;\">\n",
       "      <th></th>\n",
       "      <th>ac</th>\n",
       "      <th>v</th>\n",
       "      <th>mean_rol5</th>\n",
       "      <th>std_rol5</th>\n",
       "      <th>z_score5</th>\n",
       "    </tr>\n",
       "    <tr>\n",
       "      <th>Date</th>\n",
       "      <th></th>\n",
       "      <th></th>\n",
       "      <th></th>\n",
       "      <th></th>\n",
       "      <th></th>\n",
       "    </tr>\n",
       "  </thead>\n",
       "  <tbody>\n",
       "    <tr>\n",
       "      <th>2010-12-07</th>\n",
       "      <td>9.633577</td>\n",
       "      <td>391454000</td>\n",
       "      <td>9.629339</td>\n",
       "      <td>0.041561</td>\n",
       "      <td>0.101984</td>\n",
       "    </tr>\n",
       "    <tr>\n",
       "      <th>2010-12-08</th>\n",
       "      <td>9.718342</td>\n",
       "      <td>321935600</td>\n",
       "      <td>9.657251</td>\n",
       "      <td>0.045768</td>\n",
       "      <td>1.334784</td>\n",
       "    </tr>\n",
       "    <tr>\n",
       "      <th>2010-12-09</th>\n",
       "      <td>9.680505</td>\n",
       "      <td>294151200</td>\n",
       "      <td>9.667000</td>\n",
       "      <td>0.044144</td>\n",
       "      <td>0.305928</td>\n",
       "    </tr>\n",
       "    <tr>\n",
       "      <th>2010-12-10</th>\n",
       "      <td>9.704722</td>\n",
       "      <td>262511200</td>\n",
       "      <td>9.685891</td>\n",
       "      <td>0.032460</td>\n",
       "      <td>0.580137</td>\n",
       "    </tr>\n",
       "    <tr>\n",
       "      <th>2010-12-13</th>\n",
       "      <td>9.738327</td>\n",
       "      <td>439815600</td>\n",
       "      <td>9.695095</td>\n",
       "      <td>0.040309</td>\n",
       "      <td>1.072512</td>\n",
       "    </tr>\n",
       "    <tr>\n",
       "      <th>...</th>\n",
       "      <td>...</td>\n",
       "      <td>...</td>\n",
       "      <td>...</td>\n",
       "      <td>...</td>\n",
       "      <td>...</td>\n",
       "    </tr>\n",
       "    <tr>\n",
       "      <th>2024-01-31</th>\n",
       "      <td>184.399994</td>\n",
       "      <td>55467800</td>\n",
       "      <td>190.151996</td>\n",
       "      <td>3.915493</td>\n",
       "      <td>-1.469036</td>\n",
       "    </tr>\n",
       "    <tr>\n",
       "      <th>2024-02-01</th>\n",
       "      <td>186.860001</td>\n",
       "      <td>64885400</td>\n",
       "      <td>188.689996</td>\n",
       "      <td>3.366379</td>\n",
       "      <td>-0.543610</td>\n",
       "    </tr>\n",
       "    <tr>\n",
       "      <th>2024-02-02</th>\n",
       "      <td>185.850006</td>\n",
       "      <td>102518000</td>\n",
       "      <td>187.375998</td>\n",
       "      <td>2.777125</td>\n",
       "      <td>-0.549486</td>\n",
       "    </tr>\n",
       "    <tr>\n",
       "      <th>2024-02-05</th>\n",
       "      <td>187.679993</td>\n",
       "      <td>69668800</td>\n",
       "      <td>186.565997</td>\n",
       "      <td>1.475153</td>\n",
       "      <td>0.755173</td>\n",
       "    </tr>\n",
       "    <tr>\n",
       "      <th>2024-02-06</th>\n",
       "      <td>189.300003</td>\n",
       "      <td>43490800</td>\n",
       "      <td>186.817999</td>\n",
       "      <td>1.849926</td>\n",
       "      <td>1.341678</td>\n",
       "    </tr>\n",
       "  </tbody>\n",
       "</table>\n",
       "<p>3313 rows × 5 columns</p>\n",
       "</div>"
      ],
      "text/plain": [
       "                    ac          v   mean_rol5  std_rol5  z_score5\n",
       "Date                                                             \n",
       "2010-12-07    9.633577  391454000    9.629339  0.041561  0.101984\n",
       "2010-12-08    9.718342  321935600    9.657251  0.045768  1.334784\n",
       "2010-12-09    9.680505  294151200    9.667000  0.044144  0.305928\n",
       "2010-12-10    9.704722  262511200    9.685891  0.032460  0.580137\n",
       "2010-12-13    9.738327  439815600    9.695095  0.040309  1.072512\n",
       "...                ...        ...         ...       ...       ...\n",
       "2024-01-31  184.399994   55467800  190.151996  3.915493 -1.469036\n",
       "2024-02-01  186.860001   64885400  188.689996  3.366379 -0.543610\n",
       "2024-02-02  185.850006  102518000  187.375998  2.777125 -0.549486\n",
       "2024-02-05  187.679993   69668800  186.565997  1.475153  0.755173\n",
       "2024-02-06  189.300003   43490800  186.817999  1.849926  1.341678\n",
       "\n",
       "[3313 rows x 5 columns]"
      ]
     },
     "execution_count": 26,
     "metadata": {},
     "output_type": "execute_result"
    }
   ],
   "source": [
    "X = X.iloc[:-1].copy()\n",
    "X"
   ]
  },
  {
   "cell_type": "code",
   "execution_count": 27,
   "id": "679074f0",
   "metadata": {},
   "outputs": [
    {
     "data": {
      "text/plain": [
       "(3313, 5)"
      ]
     },
     "execution_count": 27,
     "metadata": {},
     "output_type": "execute_result"
    }
   ],
   "source": [
    "X.shape"
   ]
  },
  {
   "cell_type": "code",
   "execution_count": 28,
   "id": "d9b05449",
   "metadata": {},
   "outputs": [
    {
     "data": {
      "text/plain": [
       "(3313,)"
      ]
     },
     "execution_count": 28,
     "metadata": {},
     "output_type": "execute_result"
    }
   ],
   "source": [
    "Y.shape"
   ]
  },
  {
   "cell_type": "code",
   "execution_count": 29,
   "id": "b9cbd217",
   "metadata": {},
   "outputs": [
    {
     "data": {
      "text/plain": [
       "2977.2000000000003"
      ]
     },
     "execution_count": 29,
     "metadata": {},
     "output_type": "execute_result"
    }
   ],
   "source": [
    "3308*.9"
   ]
  },
  {
   "cell_type": "code",
   "execution_count": 30,
   "id": "951d4e8f",
   "metadata": {},
   "outputs": [],
   "source": [
    "X_train = X.iloc[:2977].copy()\n",
    "X_test = X.iloc[2977:].copy()"
   ]
  },
  {
   "cell_type": "code",
   "execution_count": 31,
   "id": "c8e13ef9",
   "metadata": {},
   "outputs": [
    {
     "name": "stdout",
     "output_type": "stream",
     "text": [
      "(2977, 5)\n",
      "(336, 5)\n"
     ]
    }
   ],
   "source": [
    "print(X_train.shape)\n",
    "print(X_test.shape)"
   ]
  },
  {
   "cell_type": "code",
   "execution_count": 32,
   "id": "cfb53583",
   "metadata": {},
   "outputs": [
    {
     "data": {
      "text/plain": [
       "3308"
      ]
     },
     "execution_count": 32,
     "metadata": {},
     "output_type": "execute_result"
    }
   ],
   "source": [
    "2977+331"
   ]
  },
  {
   "cell_type": "code",
   "execution_count": 33,
   "id": "e6abc93f",
   "metadata": {},
   "outputs": [],
   "source": [
    "Y_train = Y.iloc[:2977].copy()\n",
    "Y_test = Y.iloc[2977:].copy()"
   ]
  },
  {
   "cell_type": "code",
   "execution_count": 34,
   "id": "c633f02c",
   "metadata": {},
   "outputs": [
    {
     "name": "stdout",
     "output_type": "stream",
     "text": [
      "(2977,)\n",
      "(336,)\n"
     ]
    }
   ],
   "source": [
    "print(Y_train.shape)\n",
    "print(Y_test.shape)"
   ]
  },
  {
   "cell_type": "code",
   "execution_count": 35,
   "id": "d5a02161",
   "metadata": {},
   "outputs": [],
   "source": [
    "# !pip3 install xgboost"
   ]
  },
  {
   "cell_type": "code",
   "execution_count": 36,
   "id": "2b263b39",
   "metadata": {},
   "outputs": [],
   "source": [
    "import xgboost as xgb # from xgboot import XGBClassifier for faster import "
   ]
  },
  {
   "cell_type": "code",
   "execution_count": 37,
   "id": "55769b3c",
   "metadata": {},
   "outputs": [],
   "source": [
    "xgb_model = xgb.XGBClassifier(ojective='multi:softmax',\n",
    "                              num_class=1, # *number of classification typs\n",
    "                              random_state=42,\n",
    "                              max_depth=7, # layers of tree\n",
    "                              n_estimators=31, # rows sampled\n",
    "                              learning_rate=0.001\n",
    "                             )"
   ]
  },
  {
   "cell_type": "code",
   "execution_count": 38,
   "id": "37d23b47",
   "metadata": {},
   "outputs": [
    {
     "name": "stdout",
     "output_type": "stream",
     "text": [
      "(2977, 5) (2977,)\n"
     ]
    }
   ],
   "source": [
    "print(X_train.shape, Y_train.shape)"
   ]
  },
  {
   "cell_type": "code",
   "execution_count": 39,
   "id": "c423e5cd",
   "metadata": {},
   "outputs": [
    {
     "data": {
      "text/html": [
       "<style>#sk-container-id-1 {color: black;background-color: white;}#sk-container-id-1 pre{padding: 0;}#sk-container-id-1 div.sk-toggleable {background-color: white;}#sk-container-id-1 label.sk-toggleable__label {cursor: pointer;display: block;width: 100%;margin-bottom: 0;padding: 0.3em;box-sizing: border-box;text-align: center;}#sk-container-id-1 label.sk-toggleable__label-arrow:before {content: \"▸\";float: left;margin-right: 0.25em;color: #696969;}#sk-container-id-1 label.sk-toggleable__label-arrow:hover:before {color: black;}#sk-container-id-1 div.sk-estimator:hover label.sk-toggleable__label-arrow:before {color: black;}#sk-container-id-1 div.sk-toggleable__content {max-height: 0;max-width: 0;overflow: hidden;text-align: left;background-color: #f0f8ff;}#sk-container-id-1 div.sk-toggleable__content pre {margin: 0.2em;color: black;border-radius: 0.25em;background-color: #f0f8ff;}#sk-container-id-1 input.sk-toggleable__control:checked~div.sk-toggleable__content {max-height: 200px;max-width: 100%;overflow: auto;}#sk-container-id-1 input.sk-toggleable__control:checked~label.sk-toggleable__label-arrow:before {content: \"▾\";}#sk-container-id-1 div.sk-estimator input.sk-toggleable__control:checked~label.sk-toggleable__label {background-color: #d4ebff;}#sk-container-id-1 div.sk-label input.sk-toggleable__control:checked~label.sk-toggleable__label {background-color: #d4ebff;}#sk-container-id-1 input.sk-hidden--visually {border: 0;clip: rect(1px 1px 1px 1px);clip: rect(1px, 1px, 1px, 1px);height: 1px;margin: -1px;overflow: hidden;padding: 0;position: absolute;width: 1px;}#sk-container-id-1 div.sk-estimator {font-family: monospace;background-color: #f0f8ff;border: 1px dotted black;border-radius: 0.25em;box-sizing: border-box;margin-bottom: 0.5em;}#sk-container-id-1 div.sk-estimator:hover {background-color: #d4ebff;}#sk-container-id-1 div.sk-parallel-item::after {content: \"\";width: 100%;border-bottom: 1px solid gray;flex-grow: 1;}#sk-container-id-1 div.sk-label:hover label.sk-toggleable__label {background-color: #d4ebff;}#sk-container-id-1 div.sk-serial::before {content: \"\";position: absolute;border-left: 1px solid gray;box-sizing: border-box;top: 0;bottom: 0;left: 50%;z-index: 0;}#sk-container-id-1 div.sk-serial {display: flex;flex-direction: column;align-items: center;background-color: white;padding-right: 0.2em;padding-left: 0.2em;position: relative;}#sk-container-id-1 div.sk-item {position: relative;z-index: 1;}#sk-container-id-1 div.sk-parallel {display: flex;align-items: stretch;justify-content: center;background-color: white;position: relative;}#sk-container-id-1 div.sk-item::before, #sk-container-id-1 div.sk-parallel-item::before {content: \"\";position: absolute;border-left: 1px solid gray;box-sizing: border-box;top: 0;bottom: 0;left: 50%;z-index: -1;}#sk-container-id-1 div.sk-parallel-item {display: flex;flex-direction: column;z-index: 1;position: relative;background-color: white;}#sk-container-id-1 div.sk-parallel-item:first-child::after {align-self: flex-end;width: 50%;}#sk-container-id-1 div.sk-parallel-item:last-child::after {align-self: flex-start;width: 50%;}#sk-container-id-1 div.sk-parallel-item:only-child::after {width: 0;}#sk-container-id-1 div.sk-dashed-wrapped {border: 1px dashed gray;margin: 0 0.4em 0.5em 0.4em;box-sizing: border-box;padding-bottom: 0.4em;background-color: white;}#sk-container-id-1 div.sk-label label {font-family: monospace;font-weight: bold;display: inline-block;line-height: 1.2em;}#sk-container-id-1 div.sk-label-container {text-align: center;}#sk-container-id-1 div.sk-container {/* jupyter's `normalize.less` sets `[hidden] { display: none; }` but bootstrap.min.css set `[hidden] { display: none !important; }` so we also need the `!important` here to be able to override the default hidden behavior on the sphinx rendered scikit-learn.org. See: https://github.com/scikit-learn/scikit-learn/issues/21755 */display: inline-block !important;position: relative;}#sk-container-id-1 div.sk-text-repr-fallback {display: none;}</style><div id=\"sk-container-id-1\" class=\"sk-top-container\"><div class=\"sk-text-repr-fallback\"><pre>XGBClassifier(base_score=None, booster=None, callbacks=None,\n",
       "              colsample_bylevel=None, colsample_bynode=None,\n",
       "              colsample_bytree=None, device=None, early_stopping_rounds=None,\n",
       "              enable_categorical=False, eval_metric=None, feature_types=None,\n",
       "              gamma=None, grow_policy=None, importance_type=None,\n",
       "              interaction_constraints=None, learning_rate=0.001, max_bin=None,\n",
       "              max_cat_threshold=None, max_cat_to_onehot=None,\n",
       "              max_delta_step=None, max_depth=7, max_leaves=None,\n",
       "              min_child_weight=None, missing=nan, monotone_constraints=None,\n",
       "              multi_strategy=None, n_estimators=31, n_jobs=None, num_class=1,\n",
       "              num_parallel_tree=None, ...)</pre><b>In a Jupyter environment, please rerun this cell to show the HTML representation or trust the notebook. <br />On GitHub, the HTML representation is unable to render, please try loading this page with nbviewer.org.</b></div><div class=\"sk-container\" hidden><div class=\"sk-item\"><div class=\"sk-estimator sk-toggleable\"><input class=\"sk-toggleable__control sk-hidden--visually\" id=\"sk-estimator-id-1\" type=\"checkbox\" checked><label for=\"sk-estimator-id-1\" class=\"sk-toggleable__label sk-toggleable__label-arrow\">XGBClassifier</label><div class=\"sk-toggleable__content\"><pre>XGBClassifier(base_score=None, booster=None, callbacks=None,\n",
       "              colsample_bylevel=None, colsample_bynode=None,\n",
       "              colsample_bytree=None, device=None, early_stopping_rounds=None,\n",
       "              enable_categorical=False, eval_metric=None, feature_types=None,\n",
       "              gamma=None, grow_policy=None, importance_type=None,\n",
       "              interaction_constraints=None, learning_rate=0.001, max_bin=None,\n",
       "              max_cat_threshold=None, max_cat_to_onehot=None,\n",
       "              max_delta_step=None, max_depth=7, max_leaves=None,\n",
       "              min_child_weight=None, missing=nan, monotone_constraints=None,\n",
       "              multi_strategy=None, n_estimators=31, n_jobs=None, num_class=1,\n",
       "              num_parallel_tree=None, ...)</pre></div></div></div></div></div>"
      ],
      "text/plain": [
       "XGBClassifier(base_score=None, booster=None, callbacks=None,\n",
       "              colsample_bylevel=None, colsample_bynode=None,\n",
       "              colsample_bytree=None, device=None, early_stopping_rounds=None,\n",
       "              enable_categorical=False, eval_metric=None, feature_types=None,\n",
       "              gamma=None, grow_policy=None, importance_type=None,\n",
       "              interaction_constraints=None, learning_rate=0.001, max_bin=None,\n",
       "              max_cat_threshold=None, max_cat_to_onehot=None,\n",
       "              max_delta_step=None, max_depth=7, max_leaves=None,\n",
       "              min_child_weight=None, missing=nan, monotone_constraints=None,\n",
       "              multi_strategy=None, n_estimators=31, n_jobs=None, num_class=1,\n",
       "              num_parallel_tree=None, ...)"
      ]
     },
     "execution_count": 39,
     "metadata": {},
     "output_type": "execute_result"
    }
   ],
   "source": [
    "xgb_model.fit(X_train, Y_train)"
   ]
  },
  {
   "cell_type": "code",
   "execution_count": 40,
   "id": "6e1656db",
   "metadata": {},
   "outputs": [],
   "source": [
    "Y_pred = xgb_model.predict(X_test)"
   ]
  },
  {
   "cell_type": "code",
   "execution_count": 41,
   "id": "ea0dad46",
   "metadata": {},
   "outputs": [],
   "source": [
    "from sklearn.metrics import accuracy_score as ac"
   ]
  },
  {
   "cell_type": "code",
   "execution_count": 42,
   "id": "0c3d12e0",
   "metadata": {},
   "outputs": [
    {
     "name": "stdout",
     "output_type": "stream",
     "text": [
      "Accuracy: 0.5238095238095238\n"
     ]
    }
   ],
   "source": [
    "acc = ac(Y_test, Y_pred)\n",
    "print(f'Accuracy: {acc}')"
   ]
  },
  {
   "cell_type": "code",
   "execution_count": 43,
   "id": "b411c816",
   "metadata": {},
   "outputs": [],
   "source": [
    "# !pip install scikit-learn"
   ]
  },
  {
   "cell_type": "code",
   "execution_count": 44,
   "id": "7ba7e287",
   "metadata": {},
   "outputs": [
    {
     "data": {
      "text/plain": [
       "array([0.20604056, 0.23407002, 0.17645906, 0.20123653, 0.18219383],\n",
       "      dtype=float32)"
      ]
     },
     "execution_count": 44,
     "metadata": {},
     "output_type": "execute_result"
    }
   ],
   "source": [
    "# look at feature importances\n",
    "xgb_model.feature_importances_"
   ]
  },
  {
   "cell_type": "code",
   "execution_count": 45,
   "id": "9d8b025a",
   "metadata": {},
   "outputs": [
    {
     "data": {
      "text/plain": [
       "Index(['ac', 'v', 'mean_rol5', 'std_rol5', 'z_score5'], dtype='object')"
      ]
     },
     "execution_count": 45,
     "metadata": {},
     "output_type": "execute_result"
    }
   ],
   "source": [
    "X_train.columns"
   ]
  },
  {
   "cell_type": "code",
   "execution_count": 46,
   "id": "5f593e76",
   "metadata": {},
   "outputs": [
    {
     "data": {
      "text/plain": [
       "1"
      ]
     },
     "execution_count": 46,
     "metadata": {},
     "output_type": "execute_result"
    }
   ],
   "source": [
    "# predict tomorrow's buy or sell\n",
    "xgb_model.predict(X_pred.to_numpy().reshape(1,-1))[0]"
   ]
  },
  {
   "cell_type": "code",
   "execution_count": 47,
   "id": "798af2c9",
   "metadata": {},
   "outputs": [
    {
     "data": {
      "text/plain": [
       "array([[0.48329675, 0.51670325]], dtype=float32)"
      ]
     },
     "execution_count": 47,
     "metadata": {},
     "output_type": "execute_result"
    }
   ],
   "source": [
    "# find probability of prediction\n",
    "xgb_model.predict_proba(X_pred.to_numpy().reshape(1,-1))"
   ]
  },
  {
   "cell_type": "code",
   "execution_count": 48,
   "id": "27c65068",
   "metadata": {},
   "outputs": [
    {
     "data": {
      "text/plain": [
       "1.0"
      ]
     },
     "execution_count": 48,
     "metadata": {},
     "output_type": "execute_result"
    }
   ],
   "source": [
    "xgb_model.predict_proba(X_pred.to_numpy().reshape(1,-1))[0][0] + xgb_model.predict_proba(X_pred.to_numpy().reshape(1,-1))[0][1]"
   ]
  },
  {
   "cell_type": "code",
   "execution_count": 49,
   "id": "e95b312d",
   "metadata": {},
   "outputs": [
    {
     "name": "stdout",
     "output_type": "stream",
     "text": [
      "Accuracy: 0.5238095238095238\n"
     ]
    }
   ],
   "source": [
    "new_columns = ['ac', 'v', 'std_rol5']\n",
    "X_train_new = X_train[new_columns]\n",
    "X_test_new = X_test[new_columns]\n",
    "\n",
    "xgb_model_new = xgb.XGBClassifier(objective='binary:logistic',\n",
    "                              num_class=1, # *number of classification typs\n",
    "                              random_state=42,\n",
    "                              max_depth=7, # layers of tree\n",
    "                              n_estimators=87, # rows sampled\n",
    "                              learning_rate=0.00001\n",
    "                             )\n",
    "\n",
    "xgb_model_new.fit(X_train_new, Y_train)\n",
    "\n",
    "Y_pred_new = xgb_model_new.predict(X_test_new)\n",
    "\n",
    "acc_new = ac(Y_test, Y_pred_new)\n",
    "print(f'Accuracy: {acc_new}')"
   ]
  },
  {
   "cell_type": "code",
   "execution_count": 50,
   "id": "2e00b443",
   "metadata": {},
   "outputs": [
    {
     "data": {
      "text/plain": [
       "array([0.37507802, 0.3272499 , 0.29767206], dtype=float32)"
      ]
     },
     "execution_count": 50,
     "metadata": {},
     "output_type": "execute_result"
    }
   ],
   "source": [
    "xgb_model_new.feature_importances_"
   ]
  },
  {
   "cell_type": "code",
   "execution_count": null,
   "id": "c2d6ffc3",
   "metadata": {},
   "outputs": [],
   "source": []
  },
  {
   "cell_type": "code",
   "execution_count": null,
   "id": "0ae7f49e",
   "metadata": {},
   "outputs": [],
   "source": []
  },
  {
   "cell_type": "code",
   "execution_count": null,
   "id": "bf76666f",
   "metadata": {},
   "outputs": [],
   "source": []
  },
  {
   "cell_type": "code",
   "execution_count": null,
   "id": "a0e94393",
   "metadata": {},
   "outputs": [],
   "source": []
  },
  {
   "cell_type": "code",
   "execution_count": null,
   "id": "8cbc196e",
   "metadata": {},
   "outputs": [],
   "source": []
  },
  {
   "cell_type": "code",
   "execution_count": null,
   "id": "c8a1529f",
   "metadata": {},
   "outputs": [],
   "source": []
  }
 ],
 "metadata": {
  "kernelspec": {
   "display_name": "Python 3 (ipykernel)",
   "language": "python",
   "name": "python3"
  },
  "language_info": {
   "codemirror_mode": {
    "name": "ipython",
    "version": 3
   },
   "file_extension": ".py",
   "mimetype": "text/x-python",
   "name": "python",
   "nbconvert_exporter": "python",
   "pygments_lexer": "ipython3",
   "version": "3.10.9"
  }
 },
 "nbformat": 4,
 "nbformat_minor": 5
}
